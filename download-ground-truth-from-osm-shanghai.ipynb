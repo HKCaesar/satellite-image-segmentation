{
 "cells": [
  {
   "cell_type": "code",
   "execution_count": 1,
   "metadata": {
    "collapsed": false
   },
   "outputs": [
    {
     "name": "stderr",
     "output_type": "stream",
     "text": [
      "/home/ubuntu/anaconda3/lib/python3.6/site-packages/geopandas_osm/osm.py:299: FutureWarning: by argument to sort_index is deprecated, pls use .sort_values(by=...)\n",
      "  df = df.sort_index(by='index')[['lon', 'lat']]\n"
     ]
    }
   ],
   "source": [
    "import json\n",
    "\n",
    "import shapely.geometry\n",
    "import geopandas as gpd\n",
    "import geopandas_osm.osm\n",
    "\n",
    "meta_df = gpd.read_file('vectors/shanghai_image_summary.geojson')\n",
    "#meta_df = gpd.read_file('vectors/shanghai_RGB_image_summary.geojson')\n",
    "\n",
    "poly = shapely.geometry.box(*meta_df.unary_union.bounds)"
   ]
  },
  {
   "cell_type": "code",
   "execution_count": 2,
   "metadata": {
    "collapsed": false
   },
   "outputs": [
    {
     "data": {
      "text/html": [
       "<div>\n",
       "<style>\n",
       "    .dataframe thead tr:only-child th {\n",
       "        text-align: right;\n",
       "    }\n",
       "\n",
       "    .dataframe thead th {\n",
       "        text-align: left;\n",
       "    }\n",
       "\n",
       "    .dataframe tbody tr th {\n",
       "        vertical-align: top;\n",
       "    }\n",
       "</style>\n",
       "<table border=\"1\" class=\"dataframe\">\n",
       "  <thead>\n",
       "    <tr style=\"text-align: right;\">\n",
       "      <th></th>\n",
       "      <th>geometry</th>\n",
       "      <th>image_name</th>\n",
       "    </tr>\n",
       "  </thead>\n",
       "  <tbody>\n",
       "    <tr>\n",
       "      <th>0</th>\n",
       "      <td>POLYGON ((121.6638792 31.3242309, 121.6638792 ...</td>\n",
       "      <td>../AOI_4_Shanghai_Train/RGB-PanSharpen/RGB-Pan...</td>\n",
       "    </tr>\n",
       "    <tr>\n",
       "      <th>1</th>\n",
       "      <td>POLYGON ((121.7095092 31.2926409001, 121.70950...</td>\n",
       "      <td>../AOI_4_Shanghai_Train/RGB-PanSharpen/RGB-Pan...</td>\n",
       "    </tr>\n",
       "    <tr>\n",
       "      <th>2</th>\n",
       "      <td>POLYGON ((121.7095092 31.4172459, 121.7095092 ...</td>\n",
       "      <td>../AOI_4_Shanghai_Train/RGB-PanSharpen/RGB-Pan...</td>\n",
       "    </tr>\n",
       "    <tr>\n",
       "      <th>3</th>\n",
       "      <td>POLYGON ((121.7340792 31.2241959001, 121.73407...</td>\n",
       "      <td>../AOI_4_Shanghai_Train/RGB-PanSharpen/RGB-Pan...</td>\n",
       "    </tr>\n",
       "    <tr>\n",
       "      <th>4</th>\n",
       "      <td>POLYGON ((121.7024892 31.2838659001, 121.70248...</td>\n",
       "      <td>../AOI_4_Shanghai_Train/RGB-PanSharpen/RGB-Pan...</td>\n",
       "    </tr>\n",
       "  </tbody>\n",
       "</table>\n",
       "</div>"
      ],
      "text/plain": [
       "                                            geometry  \\\n",
       "0  POLYGON ((121.6638792 31.3242309, 121.6638792 ...   \n",
       "1  POLYGON ((121.7095092 31.2926409001, 121.70950...   \n",
       "2  POLYGON ((121.7095092 31.4172459, 121.7095092 ...   \n",
       "3  POLYGON ((121.7340792 31.2241959001, 121.73407...   \n",
       "4  POLYGON ((121.7024892 31.2838659001, 121.70248...   \n",
       "\n",
       "                                          image_name  \n",
       "0  ../AOI_4_Shanghai_Train/RGB-PanSharpen/RGB-Pan...  \n",
       "1  ../AOI_4_Shanghai_Train/RGB-PanSharpen/RGB-Pan...  \n",
       "2  ../AOI_4_Shanghai_Train/RGB-PanSharpen/RGB-Pan...  \n",
       "3  ../AOI_4_Shanghai_Train/RGB-PanSharpen/RGB-Pan...  \n",
       "4  ../AOI_4_Shanghai_Train/RGB-PanSharpen/RGB-Pan...  "
      ]
     },
     "execution_count": 2,
     "metadata": {},
     "output_type": "execute_result"
    }
   ],
   "source": [
    "meta_df.head()"
   ]
  },
  {
   "cell_type": "markdown",
   "metadata": {},
   "source": [
    "## Leisure (Finding Parks)"
   ]
  },
  {
   "cell_type": "code",
   "execution_count": 15,
   "metadata": {
    "collapsed": false,
    "scrolled": true
   },
   "outputs": [
    {
     "name": "stderr",
     "output_type": "stream",
     "text": [
      "/home/ubuntu/anaconda3/lib/python3.6/site-packages/geopandas_osm/osm.py:299: FutureWarning: by argument to sort_index is deprecated, pls use .sort_values(by=...)\n",
      "  df = df.sort_index(by='index')[['lon', 'lat']]\n"
     ]
    }
   ],
   "source": [
    "leisure_df = geopandas_osm.osm.query_osm('way', poly, recurse='down', tags='leisure')"
   ]
  },
  {
   "cell_type": "code",
   "execution_count": 17,
   "metadata": {
    "collapsed": true
   },
   "outputs": [],
   "source": [
    "leisure = leisure_df[~leisure_df.leisure.isnull()][['leisure', 'name', 'geometry']]"
   ]
  },
  {
   "cell_type": "code",
   "execution_count": 18,
   "metadata": {
    "collapsed": false
   },
   "outputs": [
    {
     "data": {
      "text/plain": [
       "Index(['leisure', 'name', 'geometry'], dtype='object')"
      ]
     },
     "execution_count": 18,
     "metadata": {},
     "output_type": "execute_result"
    }
   ],
   "source": [
    "leisure.columns"
   ]
  },
  {
   "cell_type": "code",
   "execution_count": 19,
   "metadata": {
    "collapsed": true
   },
   "outputs": [],
   "source": [
    "from collections import Counter"
   ]
  },
  {
   "cell_type": "code",
   "execution_count": 20,
   "metadata": {
    "collapsed": false
   },
   "outputs": [
    {
     "data": {
      "text/plain": [
       "Counter({'golf_course': 3,\n",
       "         'nature_reserve': 1,\n",
       "         'park': 43,\n",
       "         'pitch': 27,\n",
       "         'sports_centre': 1,\n",
       "         'swimming_pool': 1,\n",
       "         'track': 4})"
      ]
     },
     "execution_count": 20,
     "metadata": {},
     "output_type": "execute_result"
    }
   ],
   "source": [
    "Counter(leisure.leisure.values)"
   ]
  },
  {
   "cell_type": "code",
   "execution_count": 21,
   "metadata": {
    "collapsed": true
   },
   "outputs": [],
   "source": [
    "leisure.to_file('vectors/shangai_leisure_RGB.geojson', 'GeoJSON')"
   ]
  },
  {
   "cell_type": "markdown",
   "metadata": {},
   "source": [
    "## Landuse (Farmland/Farmyards/Industrial/etc)"
   ]
  },
  {
   "cell_type": "code",
   "execution_count": 4,
   "metadata": {
    "collapsed": false,
    "scrolled": false
   },
   "outputs": [
    {
     "name": "stderr",
     "output_type": "stream",
     "text": [
      "/home/mmaresca/miniconda/envs/geo/lib/python3.6/site-packages/geopandas_osm/osm.py:299: FutureWarning: by argument to sort_index is deprecated, pls use .sort_values(by=...)\n",
      "  df = df.sort_index(by='index')[['lon', 'lat']]\n"
     ]
    }
   ],
   "source": [
    "landuse_df = geopandas_osm.osm.query_osm('way', poly, recurse='down', tags='landuse')"
   ]
  },
  {
   "cell_type": "code",
   "execution_count": 5,
   "metadata": {
    "collapsed": true
   },
   "outputs": [],
   "source": [
    "landuse = landuse_df[~landuse_df.landuse.isnull()][['landuse', 'name', 'geometry']]"
   ]
  },
  {
   "cell_type": "code",
   "execution_count": 6,
   "metadata": {
    "collapsed": false
   },
   "outputs": [
    {
     "data": {
      "text/plain": [
       "Index(['landuse', 'name', 'geometry'], dtype='object')"
      ]
     },
     "execution_count": 6,
     "metadata": {},
     "output_type": "execute_result"
    }
   ],
   "source": [
    "landuse.columns"
   ]
  },
  {
   "cell_type": "code",
   "execution_count": 7,
   "metadata": {
    "collapsed": true
   },
   "outputs": [],
   "source": [
    "#highway_centroids = highways.set_geometry(highways, inplace=False)\n"
   ]
  },
  {
   "cell_type": "code",
   "execution_count": 9,
   "metadata": {
    "collapsed": true
   },
   "outputs": [],
   "source": [
    "landuse.to_file('vectors/shangai_landuse_RGB.geojson', 'GeoJSON')"
   ]
  },
  {
   "cell_type": "code",
   "execution_count": 10,
   "metadata": {
    "collapsed": true
   },
   "outputs": [],
   "source": [
    "from collections import Counter"
   ]
  },
  {
   "cell_type": "code",
   "execution_count": 11,
   "metadata": {
    "collapsed": false
   },
   "outputs": [
    {
     "data": {
      "text/plain": [
       "Counter({'basin': 1,\n",
       "         'commercial': 24,\n",
       "         'construction': 3,\n",
       "         'farmland': 18,\n",
       "         'farmyard': 223,\n",
       "         'forest': 17,\n",
       "         'grass': 9,\n",
       "         'greenfield': 1,\n",
       "         'greenhouse_horticulture': 2,\n",
       "         'industrial': 38,\n",
       "         'meadow': 8,\n",
       "         'railway': 1,\n",
       "         'recreation_ground': 1,\n",
       "         'religious': 1,\n",
       "         'residential': 80,\n",
       "         'retail': 12})"
      ]
     },
     "execution_count": 11,
     "metadata": {},
     "output_type": "execute_result"
    }
   ],
   "source": [
    "Counter(landuse.landuse.values)"
   ]
  },
  {
   "cell_type": "markdown",
   "metadata": {},
   "source": [
    "## Shanghai Nature"
   ]
  },
  {
   "cell_type": "code",
   "execution_count": 12,
   "metadata": {
    "collapsed": false
   },
   "outputs": [
    {
     "name": "stderr",
     "output_type": "stream",
     "text": [
      "/home/mmaresca/miniconda/envs/geo/lib/python3.6/site-packages/geopandas_osm/osm.py:299: FutureWarning: by argument to sort_index is deprecated, pls use .sort_values(by=...)\n",
      "  df = df.sort_index(by='index')[['lon', 'lat']]\n"
     ]
    }
   ],
   "source": [
    "natural_df = geopandas_osm.osm.query_osm('way', poly, recurse='down', tags='natural')"
   ]
  },
  {
   "cell_type": "code",
   "execution_count": 13,
   "metadata": {
    "collapsed": true
   },
   "outputs": [],
   "source": [
    "natural = natural_df[~natural_df.natural.isnull()][['natural', 'name', 'geometry']]"
   ]
  },
  {
   "cell_type": "code",
   "execution_count": 14,
   "metadata": {
    "collapsed": false
   },
   "outputs": [
    {
     "data": {
      "text/plain": [
       "Index(['natural', 'name', 'geometry'], dtype='object')"
      ]
     },
     "execution_count": 14,
     "metadata": {},
     "output_type": "execute_result"
    }
   ],
   "source": [
    "natural.columns"
   ]
  },
  {
   "cell_type": "code",
   "execution_count": 15,
   "metadata": {
    "collapsed": true
   },
   "outputs": [],
   "source": [
    "natural.to_file('vectors/shanghai_natural_RGB.geojson', 'GeoJSON')"
   ]
  },
  {
   "cell_type": "code",
   "execution_count": 16,
   "metadata": {
    "collapsed": false
   },
   "outputs": [
    {
     "data": {
      "text/plain": [
       "Counter({'coastline': 14,\n",
       "         'sand': 1,\n",
       "         'scrub': 1,\n",
       "         'water': 166,\n",
       "         'wetland': 1,\n",
       "         'wood': 13})"
      ]
     },
     "execution_count": 16,
     "metadata": {},
     "output_type": "execute_result"
    }
   ],
   "source": [
    "Counter(natural.natural.values)"
   ]
  },
  {
   "cell_type": "markdown",
   "metadata": {},
   "source": [
    "# Matching OSM data to the SpaceNet images\n"
   ]
  },
  {
   "cell_type": "markdown",
   "metadata": {},
   "source": [
    "## Shanghai Trees/Farmland"
   ]
  },
  {
   "cell_type": "code",
   "execution_count": 17,
   "metadata": {
    "collapsed": false
   },
   "outputs": [
    {
     "name": "stderr",
     "output_type": "stream",
     "text": [
      "/home/mmaresca/miniconda/envs/geo/lib/python3.6/site-packages/geopandas_osm/osm.py:299: FutureWarning: by argument to sort_index is deprecated, pls use .sort_values(by=...)\n",
      "  df = df.sort_index(by='index')[['lon', 'lat']]\n",
      "WARNING:Fiona:CPLE_NotSupported in b'dataset /home/mmaresca/dg_mount/poirot/vectors/shanghai_nature.geojson does not support layer creation option ENCODING'\n"
     ]
    },
    {
     "name": "stdout",
     "output_type": "stream",
     "text": [
      "['coastline' 'water' 'scrub' 'wetland' 'wood' 'sand']\n",
      "(196, 10)\n"
     ]
    }
   ],
   "source": [
    "import os\n",
    "\n",
    "import rasterio\n",
    "\n",
    "image_dir_path = '../AOI_4_Shanghai_Train/MUL-PanSharpen'\n",
    "\n",
    "tiff_images = [os.path.join(image_dir_path, image_name) \n",
    "               for image_name in os.listdir(image_dir_path) \n",
    "               if image_name.lower().endswith('tif')]\n",
    "\n",
    "res = []\n",
    "for image_file_name in tiff_images:\n",
    "    with rasterio.open(image_file_name) as src:\n",
    "        bbox = shapely.geometry.box(*src.bounds)\n",
    "    res.append((image_file_name, bbox))\n",
    "shanghai_df = gpd.GeoDataFrame(res, columns=['image_name', 'geometry'], crs={'init': 'epsg:4326'})\n",
    "#poly = shapely.geometry.box(*image_summary.unary_union.bounds)\n",
    "\n",
    "poly = shapely.geometry.box(*shanghai_df.unary_union.bounds)\n",
    "\n",
    "osm_df = geopandas_osm.osm.query_osm('way', poly, recurse='down', tags='natural')\n",
    "osm_df.set_geometry(natural.geometry.apply(shapely.geometry.Polygon), inplace=True)\n",
    "\n",
    "nature_df = osm_df[~osm_df.natural.isnull()]\n",
    "print(nature_df.natural.unique())\n",
    "print(nature_df.shape)\n",
    "nature_df.to_file('vectors/shanghai_nature.geojson', 'GeoJSON')"
   ]
  },
  {
   "cell_type": "code",
   "execution_count": 19,
   "metadata": {
    "collapsed": false
   },
   "outputs": [
    {
     "name": "stderr",
     "output_type": "stream",
     "text": [
      "/home/mmaresca/miniconda/envs/geo/lib/python3.6/site-packages/geopandas_osm/osm.py:299: FutureWarning: by argument to sort_index is deprecated, pls use .sort_values(by=...)\n",
      "  df = df.sort_index(by='index')[['lon', 'lat']]\n"
     ]
    },
    {
     "name": "stdout",
     "output_type": "stream",
     "text": [
      "['industrial' 'religious' 'residential' 'greenfield' 'commercial' 'basin'\n",
      " 'construction' 'greenhouse_horticulture' 'grass' 'railway' 'forest'\n",
      " 'meadow' 'farmland' 'farmyard' 'retail' 'recreation_ground']\n",
      "(439, 22)\n"
     ]
    }
   ],
   "source": [
    "osm_df = geopandas_osm.osm.query_osm('way', poly, recurse='down', tags='landuse')\n",
    "osm_df.set_geometry(landuse.geometry.apply(shapely.geometry.Polygon), inplace=True)\n",
    "\n",
    "landuse = osm_df[~osm_df.landuse.isnull()]\n",
    "print(landuse.landuse.unique())\n",
    "print(landuse.shape)\n",
    "landuse.to_file('vectors/landuse2.geojson', 'GeoJSON')"
   ]
  },
  {
   "cell_type": "code",
   "execution_count": 20,
   "metadata": {
    "collapsed": false
   },
   "outputs": [
    {
     "data": {
      "text/plain": [
       "Counter({'basin': 1,\n",
       "         'commercial': 24,\n",
       "         'construction': 3,\n",
       "         'farmland': 18,\n",
       "         'farmyard': 223,\n",
       "         'forest': 17,\n",
       "         'grass': 9,\n",
       "         'greenfield': 1,\n",
       "         'greenhouse_horticulture': 2,\n",
       "         'industrial': 38,\n",
       "         'meadow': 8,\n",
       "         'railway': 1,\n",
       "         'recreation_ground': 1,\n",
       "         'religious': 1,\n",
       "         'residential': 80,\n",
       "         'retail': 12})"
      ]
     },
     "execution_count": 20,
     "metadata": {},
     "output_type": "execute_result"
    }
   ],
   "source": [
    "Counter(landuse.landuse)"
   ]
  },
  {
   "cell_type": "code",
   "execution_count": 21,
   "metadata": {
    "collapsed": true
   },
   "outputs": [],
   "source": [
    "landuse;"
   ]
  },
  {
   "cell_type": "code",
   "execution_count": 22,
   "metadata": {
    "collapsed": true
   },
   "outputs": [],
   "source": [
    "import matplotlib.pyplot as plt\n",
    "%matplotlib inline"
   ]
  },
  {
   "cell_type": "code",
   "execution_count": 25,
   "metadata": {
    "collapsed": false,
    "scrolled": true
   },
   "outputs": [
    {
     "data": {
      "text/plain": [
       "<matplotlib.axes._subplots.AxesSubplot at 0x7f1a1f436400>"
      ]
     },
     "execution_count": 25,
     "metadata": {},
     "output_type": "execute_result"
    },
    {
     "data": {
      "image/png": "[encoded data removed]",
      "text/plain": [
       "<matplotlib.figure.Figure at 0x7f1a1f393cc0>"
      ]
     },
     "metadata": {},
     "output_type": "display_data"
    }
   ],
   "source": [
    "fig, ax = plt.subplots()\n",
    "landuse[landuse.landuse == 'farmland'].plot(color='g', ax=ax)"
   ]
  },
  {
   "cell_type": "code",
   "execution_count": 29,
   "metadata": {
    "collapsed": false
   },
   "outputs": [
    {
     "data": {
      "text/plain": [
       "<matplotlib.axes._subplots.AxesSubplot at 0x7f1a1e5c9128>"
      ]
     },
     "execution_count": 29,
     "metadata": {},
     "output_type": "execute_result"
    },
    {
     "data": {
      "image/png": "[encoded data removed]",
      "text/plain": [
       "<matplotlib.figure.Figure at 0x7f1a1fc15940>"
      ]
     },
     "metadata": {},
     "output_type": "display_data"
    }
   ],
   "source": [
    "fig, ax = plt.subplots()\n",
    "landuse[landuse.landuse == 'industrial'].plot(color='g', ax=ax)"
   ]
  },
  {
   "cell_type": "code",
   "execution_count": 26,
   "metadata": {
    "collapsed": false
   },
   "outputs": [
    {
     "data": {
      "text/plain": [
       "<matplotlib.axes._subplots.AxesSubplot at 0x7f1a202146a0>"
      ]
     },
     "execution_count": 26,
     "metadata": {},
     "output_type": "execute_result"
    },
    {
     "data": {
      "image/png": "[encoded data removed]",
      "text/plain": [
       "<matplotlib.figure.Figure at 0x7f1a200b0b00>"
      ]
     },
     "metadata": {},
     "output_type": "display_data"
    }
   ],
   "source": [
    "fig, ax = plt.subplots()\n",
    "natural[natural.natural == 'wood'].plot(color='g', ax=ax)"
   ]
  },
  {
   "cell_type": "code",
   "execution_count": 25,
   "metadata": {
    "collapsed": false
   },
   "outputs": [
    {
     "name": "stderr",
     "output_type": "stream",
     "text": [
      "/home/mmaresca/miniconda/envs/geo/lib/python3.6/site-packages/geopandas_osm/osm.py:299: FutureWarning: by argument to sort_index is deprecated, pls use .sort_values(by=...)\n",
      "  df = df.sort_index(by='index')[['lon', 'lat']]\n"
     ]
    },
    {
     "name": "stdout",
     "output_type": "stream",
     "text": [
      "['coastline' 'water' 'scrub' 'wetland' 'wood' 'sand']\n",
      "(196, 10)\n"
     ]
    }
   ],
   "source": [
    "osm_df = geopandas_osm.osm.query_osm('way', poly, recurse='down', tags='natural')\n",
    "nature = osm_df[~osm_df.natural.isnull()]\n",
    "print(nature.natural.unique())\n",
    "print(nature.shape)\n",
    "#nature.to_file('vectors/nature2.geojson', 'GeoJSON')"
   ]
  },
  {
   "cell_type": "code",
   "execution_count": 26,
   "metadata": {
    "collapsed": false
   },
   "outputs": [
    {
     "data": {
      "text/html": [
       "<div>\n",
       "<style>\n",
       "    .dataframe thead tr:only-child th {\n",
       "        text-align: right;\n",
       "    }\n",
       "\n",
       "    .dataframe thead th {\n",
       "        text-align: left;\n",
       "    }\n",
       "\n",
       "    .dataframe tbody tr th {\n",
       "        vertical-align: top;\n",
       "    }\n",
       "</style>\n",
       "<table border=\"1\" class=\"dataframe\">\n",
       "  <thead>\n",
       "    <tr style=\"text-align: right;\">\n",
       "      <th></th>\n",
       "      <th>admin_level</th>\n",
       "      <th>boat</th>\n",
       "      <th>boundary</th>\n",
       "      <th>geometry</th>\n",
       "      <th>golf</th>\n",
       "      <th>id</th>\n",
       "      <th>name</th>\n",
       "      <th>natural</th>\n",
       "      <th>water</th>\n",
       "      <th>waterway</th>\n",
       "    </tr>\n",
       "  </thead>\n",
       "  <tbody>\n",
       "    <tr>\n",
       "      <th>0</th>\n",
       "      <td>6</td>\n",
       "      <td>NaN</td>\n",
       "      <td>administrative</td>\n",
       "      <td>LINESTRING (121.7188589 31.3634878, 121.720518...</td>\n",
       "      <td>NaN</td>\n",
       "      <td>9979122</td>\n",
       "      <td>NaN</td>\n",
       "      <td>coastline</td>\n",
       "      <td>NaN</td>\n",
       "      <td>NaN</td>\n",
       "    </tr>\n",
       "    <tr>\n",
       "      <th>1</th>\n",
       "      <td>NaN</td>\n",
       "      <td>NaN</td>\n",
       "      <td>NaN</td>\n",
       "      <td>LINESTRING (121.7126708 31.2927056, 121.691359...</td>\n",
       "      <td>NaN</td>\n",
       "      <td>9983239</td>\n",
       "      <td>NaN</td>\n",
       "      <td>coastline</td>\n",
       "      <td>NaN</td>\n",
       "      <td>NaN</td>\n",
       "    </tr>\n",
       "    <tr>\n",
       "      <th>2</th>\n",
       "      <td>NaN</td>\n",
       "      <td>NaN</td>\n",
       "      <td>NaN</td>\n",
       "      <td>LINESTRING (121.6846559 31.3107746, 121.687418...</td>\n",
       "      <td>NaN</td>\n",
       "      <td>9984071</td>\n",
       "      <td>NaN</td>\n",
       "      <td>coastline</td>\n",
       "      <td>NaN</td>\n",
       "      <td>NaN</td>\n",
       "    </tr>\n",
       "    <tr>\n",
       "      <th>3</th>\n",
       "      <td>6</td>\n",
       "      <td>NaN</td>\n",
       "      <td>administrative</td>\n",
       "      <td>LINESTRING (121.7004543 31.3731507, 121.700601...</td>\n",
       "      <td>NaN</td>\n",
       "      <td>9984387</td>\n",
       "      <td>NaN</td>\n",
       "      <td>coastline</td>\n",
       "      <td>NaN</td>\n",
       "      <td>NaN</td>\n",
       "    </tr>\n",
       "    <tr>\n",
       "      <th>4</th>\n",
       "      <td>6</td>\n",
       "      <td>NaN</td>\n",
       "      <td>administrative</td>\n",
       "      <td>LINESTRING (121.5912602 31.432857, 121.591707 ...</td>\n",
       "      <td>NaN</td>\n",
       "      <td>9984493</td>\n",
       "      <td>NaN</td>\n",
       "      <td>coastline</td>\n",
       "      <td>NaN</td>\n",
       "      <td>NaN</td>\n",
       "    </tr>\n",
       "  </tbody>\n",
       "</table>\n",
       "</div>"
      ],
      "text/plain": [
       "  admin_level boat        boundary  \\\n",
       "0           6  NaN  administrative   \n",
       "1         NaN  NaN             NaN   \n",
       "2         NaN  NaN             NaN   \n",
       "3           6  NaN  administrative   \n",
       "4           6  NaN  administrative   \n",
       "\n",
       "                                            geometry golf       id name  \\\n",
       "0  LINESTRING (121.7188589 31.3634878, 121.720518...  NaN  9979122  NaN   \n",
       "1  LINESTRING (121.7126708 31.2927056, 121.691359...  NaN  9983239  NaN   \n",
       "2  LINESTRING (121.6846559 31.3107746, 121.687418...  NaN  9984071  NaN   \n",
       "3  LINESTRING (121.7004543 31.3731507, 121.700601...  NaN  9984387  NaN   \n",
       "4  LINESTRING (121.5912602 31.432857, 121.591707 ...  NaN  9984493  NaN   \n",
       "\n",
       "     natural water waterway  \n",
       "0  coastline   NaN      NaN  \n",
       "1  coastline   NaN      NaN  \n",
       "2  coastline   NaN      NaN  \n",
       "3  coastline   NaN      NaN  \n",
       "4  coastline   NaN      NaN  "
      ]
     },
     "execution_count": 26,
     "metadata": {},
     "output_type": "execute_result"
    }
   ],
   "source": [
    "nature.head()"
   ]
  },
  {
   "cell_type": "code",
   "execution_count": null,
   "metadata": {
    "collapsed": true
   },
   "outputs": [],
   "source": []
  },
  {
   "cell_type": "code",
   "execution_count": 9,
   "metadata": {
    "collapsed": false
   },
   "outputs": [
    {
     "name": "stderr",
     "output_type": "stream",
     "text": [
      "/home/mmaresca/miniconda/envs/geo/lib/python3.6/site-packages/geopandas_osm/osm.py:299: FutureWarning: by argument to sort_index is deprecated, pls use .sort_values(by=...)\n",
      "  df = df.sort_index(by='index')[['lon', 'lat']]\n"
     ]
    },
    {
     "data": {
      "text/plain": [
       "Index(['geometry', 'height', 'id', 'landuse', 'leisure', 'name', 'natural',\n",
       "       'wetland'],\n",
       "      dtype='object')"
      ]
     },
     "execution_count": 9,
     "metadata": {},
     "output_type": "execute_result"
    }
   ],
   "source": [
    "# tag = 'generator:source=solar'\n",
    "osm_df = geopandas_osm.osm.query_osm('way', poly, recurse='down', tags='natural')\n",
    "osm_df.columns"
   ]
  },
  {
   "cell_type": "code",
   "execution_count": 10,
   "metadata": {
    "collapsed": false
   },
   "outputs": [
    {
     "data": {
      "text/plain": [
       "array([nan, 'farmland'], dtype=object)"
      ]
     },
     "execution_count": 10,
     "metadata": {},
     "output_type": "execute_result"
    }
   ],
   "source": [
    "osm_df['landuse'].unique()"
   ]
  }
 ],
 "metadata": {
  "anaconda-cloud": {},
  "kernelspec": {
   "display_name": "Python [default]",
   "language": "python",
   "name": "python3"
  },
  "language_info": {
   "codemirror_mode": {
    "name": "ipython",
    "version": 3
   },
   "file_extension": ".py",
   "mimetype": "text/x-python",
   "name": "python",
   "nbconvert_exporter": "python",
   "pygments_lexer": "ipython3",
   "version": "3.5.2"
  }
 },
 "nbformat": 4,
 "nbformat_minor": 2
}
