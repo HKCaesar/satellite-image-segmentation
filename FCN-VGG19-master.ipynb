{
 "cells": [
  {
   "cell_type": "code",
   "execution_count": 2,
   "metadata": {
    "collapsed": true
   },
   "outputs": [],
   "source": [
    "import os\n",
    "\n",
    "import cv2\n",
    "import geopandas as gpd\n",
    "import matplotlib.pyplot as plt\n",
    "import numpy as np\n",
    "import rasterio\n",
    "import shapely.geometry\n",
    "from scipy.misc import imresize\n",
    "\n",
    "%matplotlib inline"
   ]
  },
  {
   "cell_type": "code",
   "execution_count": null,
   "metadata": {
    "collapsed": true
   },
   "outputs": [],
   "source": [
    "with open('mn_xtrain_256_bgr_man.pkl', 'rb') as f:\n",
    "    X_train = pickle.load(f)\n",
    "\n",
    "with open('mn_ytrain_256_man.pkl', 'rb') as f:\n",
    "    Y_train = pickle.load(f)\n",
    "\n",
    "with open('mn_xval_256_bgr_man.pkl', 'rb') as f:\n",
    "    X_val = pickle.load(f)\n",
    "\n",
    "with open('mn_yval_256_man.pkl', 'rb') as f:\n",
    "    Y_val = pickle.load(f)"
   ]
  },
  {
   "cell_type": "code",
   "execution_count": 5,
   "metadata": {
    "collapsed": true
   },
   "outputs": [],
   "source": [
    "# Load the image summary\n",
    "image_summary = gpd.read_file('vectors/shanghai_RGB_image_summary.geojson')\n",
    "\n",
    "# Load the landuse data from OSM\n",
    "osm_landuse = gpd.read_file('vectors/shanghai_landuse.geojson')\n",
    "osm_leisure = gpd.read_file('vectors/shanghai_leisure_RGB.geojson')\n",
    "\n",
    "# Convert everything to polygons\n",
    "osm_landuse.set_geometry(osm_landuse.geometry.apply(shapely.geometry.Polygon), inplace=True)\n",
    "osm_leisure.set_geometry(osm_leisure.geometry.apply(shapely.geometry.Polygon), inplace=True)\n",
    "\n",
    "# Limit to just farmland\n",
    "farmland = osm_landuse[osm_landuse.landuse == 'farmland'].unary_union\n",
    "\n",
    "# Background\n",
    "farmyard = osm_landuse[osm_landuse.landuse == 'farmyard'].unary_union\n",
    "industrial = osm_landuse[osm_landuse.landuse == 'industrial'].unary_union\n",
    "park = osm_leisure[osm_leisure.leisure == 'park'].unary_union\n",
    "\n",
    "vectors = [farmland]"
   ]
  },
  {
   "cell_type": "code",
   "execution_count": null,
   "metadata": {
    "collapsed": true
   },
   "outputs": [],
   "source": []
  },
  {
   "cell_type": "code",
   "execution_count": 6,
   "metadata": {
    "collapsed": true
   },
   "outputs": [],
   "source": [
    "INPUT_SIZE = 224\n",
    "\n",
    "def polycoords(poly):\n",
    "    \"\"\"Convert a polygon into the format expected by OpenCV\n",
    "    \"\"\"\n",
    "    if poly.type in ['MultiPolygon', 'GeometryCollection']:\n",
    "        return [np.array(p.exterior.coords) for p in poly if p.type == 'Polygon']\n",
    "    elif poly.type == 'Polygon':\n",
    "        return [np.array(poly.exterior.coords)]\n",
    "    else:\n",
    "        print('Encountered unrecognized geometry type {}. Ignoring.'.format(poly.type))\n",
    "        return []\n",
    "    \n",
    "def make_mask(img_shape, poly):\n",
    "    \"\"\"Make a mask from a polygon\"\"\"\n",
    "    poly_pts = polycoords(poly)\n",
    "    polys = [x.astype(int) for x in poly_pts]\n",
    "    # Create an empty mask and then fill in the polygons\n",
    "    mask = np.zeros(img_shape[:2])\n",
    "    cv2.fillPoly(mask, polys, 255)\n",
    "    return mask.astype('uint8')\n",
    "\n",
    "def scale_bands(img, lower_pct=1, upper_pct=99):\n",
    "    \"\"\"Rescale the bands of a multichannel image for display\"\"\"\n",
    "    img_scaled = np.zeros(img.shape, np.uint8)\n",
    "    for i in range(img.shape[2]):\n",
    "        band = img[:, :, i]\n",
    "        lower, upper = np.percentile(band, [lower_pct, upper_pct])\n",
    "        band = (band - lower) / (upper - lower) * 255\n",
    "        img_scaled[:, :, i] = np.clip(band, 0, 255).astype(np.uint8)\n",
    "    return img_scaled\n",
    "\n",
    "def resize(img, new_shape):\n",
    "    img_resized = np.zeros(new_shape+(img.shape[2],)).astype('float32')\n",
    "    for i in range(img.shape[2]):\n",
    "        img_resized[:, :, i] = imresize(img[:, :, i], new_shape, interp='bicubic')\n",
    "    return img_resized\n",
    "\n",
    "# Build a training set\n",
    "def make_set(image_summary, vectors, training_set_size, input_size, random=np.random):\n",
    "    rows_to_use = random.choice(image_summary.index, training_set_size, replace=False)\n",
    "    X = []\n",
    "    Y = []\n",
    "    X_val = []\n",
    "    Y_val = []\n",
    "    for i, row in image_summary.loc[rows_to_use].iterrows():\n",
    "        with rasterio.open(row.image_name) as src:\n",
    "            img = src.read().transpose([1, 2, 0])\n",
    "            img = img[::-1]\n",
    "            img_bounds = shapely.geometry.box(*src.bounds)\n",
    "            img_transform = list(np.array(~src.transform)[[0, 1, 3, 4, 2, 5]])\n",
    "        \n",
    "        # Ignore faulty images\n",
    "        faulty_imgs = []\n",
    "        if np.sum(img==0) > 500:\n",
    "            faulty_imgs.append(img)\n",
    "        else:\n",
    "           \n",
    "            masks = []\n",
    "\n",
    "            # farmland only...to remove farmyard\n",
    "\n",
    "            for i, poly in enumerate(vectors):\n",
    "                if i == 0:\n",
    "                    mask_poly = poly.intersection(img_bounds)\n",
    "                    mask_farmyard = farmyard.intersection(img_bounds)\n",
    "\n",
    "                    # Transform it into pixel coordinates\n",
    "                    mask_poly_pxcoords = shapely.affinity.affine_transform(mask_poly, img_transform)\n",
    "                    mask_farmyard_pxcoords = shapely.affinity.affine_transform(mask_farmyard, img_transform)\n",
    "                    mask_poly_pxcoords = mask_poly_pxcoords - mask_farmyard_pxcoords\n",
    "\n",
    "                    # Convert the polygon into a mask\n",
    "                    mask = make_mask(img.shape[:2], mask_poly_pxcoords)\n",
    "                    mask = imresize(mask, (INPUT_SIZE, INPUT_SIZE))\n",
    "\n",
    "                    masks.append(mask[..., None])\n",
    "                else:\n",
    "                    # Get the intersection between the polygon and the image bounds\n",
    "                    mask_poly = poly.intersection(img_bounds)\n",
    "\n",
    "                    # Transform it into pixel coordinates\n",
    "                    mask_poly_pxcoords = shapely.affinity.affine_transform(mask_poly, img_transform)\n",
    "\n",
    "                    # Convert the polygon into a mask\n",
    "                    mask = make_mask(img.shape[:2], mask_poly_pxcoords)\n",
    "                    mask = imresize(mask, (INPUT_SIZE, INPUT_SIZE))\n",
    "\n",
    "                    masks.append(mask[..., None])\n",
    "            masks = np.concatenate(masks, axis=2)\n",
    "            img = resize(img, (input_size, input_size))\n",
    "\n",
    "            # Add each mask to a list\n",
    "            # TODO: randomly generate starting position in x and y directions for crop\n",
    "            X.append(img[None, ...])\n",
    "            Y.append(masks[None, ...])\n",
    "    \n",
    "    for i, row in image_summary.iterrows():\n",
    "        if i not in rows_to_use:\n",
    "            with rasterio.open(row.image_name) as src:\n",
    "                img = src.read().transpose([1, 2, 0])\n",
    "                img = img[::-1]\n",
    "                img_bounds = shapely.geometry.box(*src.bounds)\n",
    "                img_transform = list(np.array(~src.transform)[[0, 1, 3, 4, 2, 5]])\n",
    "\n",
    "            # Ignore faulty images\n",
    "            if np.sum(img==0) < 500:\n",
    "\n",
    "                masks = []\n",
    "\n",
    "                for i, poly in enumerate(vectors):\n",
    "                    #farmland only...to remove farmyard\n",
    "                    if i == 0:\n",
    "                        mask_poly = poly.intersection(img_bounds)\n",
    "                        mask_farmyard = farmyard.intersection(img_bounds)\n",
    "\n",
    "                        # Transform it into pixel coordinates\n",
    "                        mask_poly_pxcoords = shapely.affinity.affine_transform(mask_poly, img_transform)\n",
    "                        mask_farmyard_pxcoords = shapely.affinity.affine_transform(mask_farmyard, img_transform)\n",
    "                        mask_poly_pxcoords = mask_poly_pxcoords - mask_farmyard_pxcoords\n",
    "\n",
    "                        # Convert the polygon into a mask\n",
    "                        mask = make_mask(img.shape[:2], mask_poly_pxcoords)\n",
    "                        mask = imresize(mask, (INPUT_SIZE, INPUT_SIZE))\n",
    "\n",
    "                        masks.append(mask[..., None])\n",
    "                    else:\n",
    "                        # Get the intersection between the polygon and the image bounds\n",
    "                        mask_poly = poly.intersection(img_bounds)\n",
    "\n",
    "                        # Transform it into pixel coordinates\n",
    "                        mask_poly_pxcoords = shapely.affinity.affine_transform(mask_poly, img_transform)\n",
    "\n",
    "                        # Convert the polygon into a mask\n",
    "                        mask = make_mask(img.shape[:2], mask_poly_pxcoords)\n",
    "                        mask = imresize(mask, (INPUT_SIZE, INPUT_SIZE))\n",
    "\n",
    "                        masks.append(mask[..., None])\n",
    "                masks = np.concatenate(masks, axis=2)\n",
    "                img = resize(img, (input_size, input_size))\n",
    "\n",
    "                # Add each mask to a list\n",
    "                # TODO: randomly generate starting position in x and y directions for crop\n",
    "                X_val.append(img[None, ...])\n",
    "                Y_val.append(masks[None, ...])\n",
    "    # Concatenate the results\n",
    "    X = np.concatenate(X, axis=0)\n",
    "    Y = np.concatenate(Y, axis=0)\n",
    "    X_val = np.concatenate(X_val, axis=0)\n",
    "    Y_val = np.concatenate(Y_val, axis=0)\n",
    "    \n",
    "    # Normalize the values\n",
    "    X = X.astype('float32')\n",
    "    X = (X / X.max() - 0.5) * 2 # put X in range [-1, 1]\n",
    "    Y = Y.astype('float32') / 255 # put Y in range [0, 1]\n",
    "    \n",
    "    X_val = X_val.astype('float32')\n",
    "    X_val = (X_val / X_val.max() - 0.5) * 2 # put X in range [-1, 1]\n",
    "    Y_val = Y_val.astype('float32') / 255 # put Y in range [0, 1]\n",
    "    \n",
    "    return X, Y, X_val, Y_val\n",
    "\n",
    "random = np.random.RandomState(2)\n",
    "X_train, Y_train, X_val, Y_val = make_set(image_summary, vectors, 4000, INPUT_SIZE)\n",
    "#X_val, Y_val = make_set(image_summary, vectors, 800, INPUT_SIZE, random)\n",
    "    "
   ]
  },
  {
   "cell_type": "code",
   "execution_count": 25,
   "metadata": {
    "collapsed": false
   },
   "outputs": [
    {
     "data": {
      "text/plain": [
       "610"
      ]
     },
     "execution_count": 25,
     "metadata": {},
     "output_type": "execute_result"
    }
   ],
   "source": []
  },
  {
   "cell_type": "code",
   "execution_count": 22,
   "metadata": {
    "collapsed": false,
    "scrolled": true
   },
   "outputs": [
    {
     "data": {
      "text/plain": [
       "3972"
      ]
     },
     "execution_count": 22,
     "metadata": {},
     "output_type": "execute_result"
    }
   ],
   "source": [
    "X_train.shape[0]"
   ]
  },
  {
   "cell_type": "code",
   "execution_count": 20,
   "metadata": {
    "collapsed": false
   },
   "outputs": [
    {
     "data": {
      "text/plain": [
       "(580, 224, 224, 3)"
      ]
     },
     "execution_count": 20,
     "metadata": {},
     "output_type": "execute_result"
    }
   ],
   "source": [
    "X_val.shape"
   ]
  },
  {
   "cell_type": "code",
   "execution_count": null,
   "metadata": {
    "collapsed": true
   },
   "outputs": [],
   "source": []
  },
  {
   "cell_type": "code",
   "execution_count": null,
   "metadata": {
    "collapsed": true
   },
   "outputs": [],
   "source": []
  },
  {
   "cell_type": "code",
   "execution_count": 19,
   "metadata": {
    "collapsed": true
   },
   "outputs": [],
   "source": [
    "# Source: https://github.com/jocicmarko/ultrasound-nerve-segmentation/blob/master/train.py\n",
    "\n",
    "import keras\n",
    "from keras import backend as K\n",
    "from keras import applications\n",
    "from keras.layers import Input, concatenate, Conv2D, MaxPooling2D, Conv2DTranspose, Dropout, Lambda, Add, Reshape, ZeroPadding2D\n",
    "from keras.models import Model, Sequential\n",
    "from keras.optimizers import Adam\n",
    "import tensorflow as tf\n",
    "from keras.callbacks import LearningRateScheduler, ModelCheckpoint, ReduceLROnPlateau, TensorBoard, CSVLogger\n",
    "from keras.preprocessing.image import ImageDataGenerator\n",
    "import keras.backend.tensorflow_backend\n",
    "from keras.utils.data_utils import get_file\n",
    "\n",
    "# Clear any junk from session memory\n",
    "K.clear_session()\n",
    "\n",
    "# Set network size params\n",
    "N_CLASSES = 1\n",
    "N_CHANNEL = 3\n",
    "INPUT_SIZE = 224\n",
    "\n",
    "WEIGHTS_PATH_NO_TOP = 'https://github.com/fchollet/deep-learning-models/releases/download/v0.1/vgg19_weights_tf_dim_ordering_tf_kernels_notop.h5'\n",
    "weights_path = get_file('vgg19_weights_tf_dim_ordering_tf_kernels_notop.h5',\n",
    "                                    WEIGHTS_PATH_NO_TOP,\n",
    "                                    cache_subdir='models')\n",
    "\n",
    "\n",
    "# Define metrics\n",
    "smooth = 1.\n",
    "\n",
    "def dice_coef(y_true, y_pred):\n",
    "    y_true_f = K.flatten(y_true)\n",
    "    y_pred_f = K.flatten(y_pred)\n",
    "    intersection = K.sum(y_true_f * y_pred_f)\n",
    "    return (2. * intersection + smooth) / (K.sum(y_true_f) + K.sum(y_pred_f) + smooth)\n",
    "\n",
    "def dice_coef_loss(y_true, y_pred):\n",
    "    return - dice_coef(y_true, y_pred)\n",
    "\n",
    "def jacc_coef(y_true, y_pred):\n",
    "    intersection = K.sum(y_true * y_pred, axis=[0, -1, -2])\n",
    "    sum_ = K.sum(y_true + y_pred, axis=[0, -1, -2])\n",
    "    jac = (intersection + smooth) / (sum_ - intersection + smooth)\n",
    "    return K.mean(jac)\n",
    "\n",
    "def jacc_coef_loss(y_true, y_pred):\n",
    "    return -jacc_coef(y_true, y_pred)\n",
    "\n",
    "def jacc_coef_int(y_true, y_pred):\n",
    "    y_pred_pos = K.round(K.clip(y_pred, 0, 1))\n",
    "    intersection = K.sum(y_true * y_pred_pos, axis=[0, -1, -2])\n",
    "    sum_ = K.sum(y_true + y_pred, axis=[0, -1, -2])\n",
    "    jac = (intersection + smooth) / (sum_ - intersection + smooth)\n",
    "    return K.mean(jac)\n",
    "\n",
    "def mean_pixel_intersection_over_union(y_true, y_pred):\n",
    "    tp = np.sum((y_pred > 0.15) & (y_true > 0.15))\n",
    "    tn = np.sum((y_pred < 0.15) & (y_true < 0.15))\n",
    "    fp = np.sum((y_pred > 0.15) & (y_true < 0.15))\n",
    "    fn = np.sum((y_pred < 0.15) & (y_true > 0.15))\n",
    "    return K.mean(tp/(tp+fp+fn))\n",
    "\n",
    "\n",
    "def fcn_model(lr=.001):\n",
    "    K.clear_session()\n",
    "    \n",
    "    img_input = Input((INPUT_SIZE, INPUT_SIZE, N_CHANNEL))\n",
    "        \n",
    "    # Block 1\n",
    "    x = Conv2D(64, (3, 3), activation='relu', padding='same', name='block1_conv1')(img_input)\n",
    "    x = Conv2D(64, (3, 3), activation='relu', padding='same', name='block1_conv2')(x)\n",
    "    x = MaxPooling2D((2, 2), strides=(2, 2), name='block1_pool')(x)\n",
    "    x = Dropout(0.5)(x)\n",
    "\n",
    "    # Block 2\n",
    "    x = Conv2D(128, (3, 3), activation='relu', padding='same', name='block2_conv1')(x)\n",
    "    x = Conv2D(128, (3, 3), activation='relu', padding='same', name='block2_conv2')(x)\n",
    "    x = MaxPooling2D((2, 2), strides=(2, 2), name='block2_pool')(x)\n",
    "    x = Dropout(0.5)(x)\n",
    "\n",
    "    # Block 3\n",
    "    x = Conv2D(256, (3, 3), activation='relu', padding='same', name='block3_conv1')(x)\n",
    "    x = Conv2D(256, (3, 3), activation='relu', padding='same', name='block3_conv2')(x)\n",
    "    x = Conv2D(256, (3, 3), activation='relu', padding='same', name='block3_conv3')(x)\n",
    "    x = Conv2D(256, (3, 3), activation='relu', padding='same', name='block3_conv4')(x)\n",
    "    pool3 = MaxPooling2D((2, 2), strides=(2, 2), name='block3_pool')(x)\n",
    "    x = Dropout(0.5)(pool3)\n",
    "\n",
    "    # Block 4\n",
    "    x = Conv2D(512, (3, 3), activation='relu', padding='same', name='block4_conv1')(pool3)\n",
    "    x = Conv2D(512, (3, 3), activation='relu', padding='same', name='block4_conv2')(x)\n",
    "    x = Conv2D(512, (3, 3), activation='relu', padding='same', name='block4_conv3')(x)\n",
    "    x = Conv2D(512, (3, 3), activation='relu', padding='same', name='block4_conv4')(x)\n",
    "    pool4 = MaxPooling2D((2, 2), strides=(2, 2), name='block4_pool')(x)\n",
    "    x = Dropout(0.5)(pool4)\n",
    "\n",
    "    # Block 5\n",
    "    x = Conv2D(512, (3, 3), activation='relu', padding='same', name='block5_conv1')(pool4)\n",
    "    x = Conv2D(512, (3, 3), activation='relu', padding='same', name='block5_conv2')(x)\n",
    "    x = Conv2D(512, (3, 3), activation='relu', padding='same', name='block5_conv3')(x)\n",
    "    x = Conv2D(512, (3, 3), activation='relu', padding='same', name='block5_conv4')(x)\n",
    "    pool5 = MaxPooling2D((2, 2), strides=(2, 2), name='block5_pool')(x)\n",
    "    x = Dropout(0.5)(pool5)\n",
    "\n",
    "    x = Conv2D(4096, (7, 7), activation='relu', padding='same')(pool5)\n",
    "    x = Dropout(0.5)(x)\n",
    "    x = Conv2D(4096, (1, 1), activation='relu', padding='same')(x)\n",
    "    drop = Dropout(0.5)(x)\n",
    "    \n",
    "    \n",
    "    \n",
    "    score_c5 = Conv2D(N_CLASSES, (1, 1), strides=(1, 1), padding='same', kernel_initializer='zeros')(drop)\n",
    "    up_c5 = Conv2DTranspose(N_CLASSES, (2, 2), strides=(2, 2), padding='valid')(score_c5)\n",
    "    \n",
    "    score_c4 = Conv2D(N_CLASSES, (1, 1), strides=(1, 1), padding='same', kernel_initializer='zeros')(pool4)\n",
    "    fuse_16 = Add()([score_c4, up_c5])\n",
    "    up_c4 = Conv2DTranspose(N_CLASSES, (2, 2), strides=(2, 2), padding='valid')(fuse_16)\n",
    "    \n",
    "    score_c3 = Conv2D(N_CLASSES, (1, 1), strides=(1, 1), padding='same', kernel_initializer='zeros')(pool3)\n",
    "    fuse_32 = Add()([score_c3, up_c4])\n",
    "    up_c3 = Conv2DTranspose(N_CLASSES, (8, 8), strides=(8, 8), padding='valid', activation='sigmoid')(fuse_32)\n",
    "\n",
    "\n",
    "\n",
    "\n",
    "\n",
    "    #fcn_model = Sequential()\n",
    "    fcn_model = Model(inputs=img_input, outputs=up_c3)\n",
    "    \n",
    "    #fcn_model.load_weights(weights_path, by_name=True)\n",
    "    fcn_model.load_weights(os.path.join('checkpoints_ffip_fcn_vgg', 'newFIXEDweights.00-0.06959.hdf5'), by_name=False)\n",
    "    \n",
    "    fcn_model.compile(optimizer=Adam(lr=lr), loss='binary_crossentropy', metrics=[jacc_coef])\n",
    "    \n",
    "    return fcn_model\n",
    "\n",
    "\n",
    "\n",
    "\n",
    "\n",
    "\n",
    "\n",
    "\n",
    "\n"
   ]
  },
  {
   "cell_type": "code",
   "execution_count": null,
   "metadata": {
    "collapsed": false
   },
   "outputs": [
    {
     "name": "stdout",
     "output_type": "stream",
     "text": [
      "Train on 3616 samples, validate on 519 samples\n",
      "Epoch 1/80\n",
      "3616/3616 [==============================] - 527s - loss: 0.0735 - jacc_coef: 0.3108 - val_loss: 0.1076 - val_jacc_coef: 0.3210\n",
      "Epoch 2/80\n",
      "3616/3616 [==============================] - 522s - loss: 0.0710 - jacc_coef: 0.3344 - val_loss: 0.1249 - val_jacc_coef: 0.2895\n",
      "Epoch 5/80\n",
      "3616/3616 [==============================] - 522s - loss: 0.0685 - jacc_coef: 0.3229 - val_loss: 0.1125 - val_jacc_coef: 0.2612\n",
      "Epoch 6/80\n",
      "3616/3616 [==============================] - 524s - loss: 0.0678 - jacc_coef: 0.3312 - val_loss: 0.0978 - val_jacc_coef: 0.3122\n",
      "Epoch 7/80\n",
      "3616/3616 [==============================] - 522s - loss: 0.0678 - jacc_coef: 0.3274 - val_loss: 0.0995 - val_jacc_coef: 0.3214\n",
      "Epoch 8/80\n",
      "3616/3616 [==============================] - 523s - loss: 0.0587 - jacc_coef: 0.3722 - val_loss: 0.1091 - val_jacc_coef: 0.3662\n",
      "Epoch 9/80\n",
      "3616/3616 [==============================] - 522s - loss: 0.0597 - jacc_coef: 0.3695 - val_loss: 0.1024 - val_jacc_coef: 0.2729\n",
      "Epoch 10/80\n",
      "3616/3616 [==============================] - 522s - loss: 0.0599 - jacc_coef: 0.3727 - val_loss: 0.1085 - val_jacc_coef: 0.3462\n",
      "Epoch 11/80\n",
      "3616/3616 [==============================] - 522s - loss: 0.0558 - jacc_coef: 0.3795 - val_loss: 0.1120 - val_jacc_coef: 0.3461\n",
      "Epoch 12/80\n",
      "  72/3616 [..............................] - ETA: 490s - loss: 0.0550 - jacc_coef: 0.4799"
     ]
    },
    {
     "ename": "KeyboardInterrupt",
     "evalue": "",
     "output_type": "error",
     "traceback": [
      "\u001b[0;31m---------------------------------------------------------------------------\u001b[0m",
      "\u001b[0;31mKeyboardInterrupt\u001b[0m                         Traceback (most recent call last)",
      "\u001b[0;32m<ipython-input-20-2d9c92a5b796>\u001b[0m in \u001b[0;36m<module>\u001b[0;34m()\u001b[0m\n\u001b[1;32m     21\u001b[0m \u001b[0;31m#model.fit_generator(train_batches, steps_per_epoch=STEPS_PER_EPOCH, epochs=NUM_EPOCHS, verbose=1, callbacks=[reduce_lr])\u001b[0m\u001b[0;34m\u001b[0m\u001b[0;34m\u001b[0m\u001b[0m\n\u001b[1;32m     22\u001b[0m model.fit(X_train, Y_train, batch_size=12, epochs=NUM_EPOCHS, verbose=1, shuffle=True, validation_data=(X_val, Y_val),\n\u001b[0;32m---> 23\u001b[0;31m          callbacks=[model_checkpoint])\n\u001b[0m",
      "\u001b[0;32m/home/ubuntu/anaconda3/lib/python3.6/site-packages/keras/engine/training.py\u001b[0m in \u001b[0;36mfit\u001b[0;34m(self, x, y, batch_size, epochs, verbose, callbacks, validation_split, validation_data, shuffle, class_weight, sample_weight, initial_epoch, **kwargs)\u001b[0m\n\u001b[1;32m   1483\u001b[0m                               \u001b[0mval_f\u001b[0m\u001b[0;34m=\u001b[0m\u001b[0mval_f\u001b[0m\u001b[0;34m,\u001b[0m \u001b[0mval_ins\u001b[0m\u001b[0;34m=\u001b[0m\u001b[0mval_ins\u001b[0m\u001b[0;34m,\u001b[0m \u001b[0mshuffle\u001b[0m\u001b[0;34m=\u001b[0m\u001b[0mshuffle\u001b[0m\u001b[0;34m,\u001b[0m\u001b[0;34m\u001b[0m\u001b[0m\n\u001b[1;32m   1484\u001b[0m                               \u001b[0mcallback_metrics\u001b[0m\u001b[0;34m=\u001b[0m\u001b[0mcallback_metrics\u001b[0m\u001b[0;34m,\u001b[0m\u001b[0;34m\u001b[0m\u001b[0m\n\u001b[0;32m-> 1485\u001b[0;31m                               initial_epoch=initial_epoch)\n\u001b[0m\u001b[1;32m   1486\u001b[0m \u001b[0;34m\u001b[0m\u001b[0m\n\u001b[1;32m   1487\u001b[0m     \u001b[0;32mdef\u001b[0m \u001b[0mevaluate\u001b[0m\u001b[0;34m(\u001b[0m\u001b[0mself\u001b[0m\u001b[0;34m,\u001b[0m \u001b[0mx\u001b[0m\u001b[0;34m,\u001b[0m \u001b[0my\u001b[0m\u001b[0;34m,\u001b[0m \u001b[0mbatch_size\u001b[0m\u001b[0;34m=\u001b[0m\u001b[0;36m32\u001b[0m\u001b[0;34m,\u001b[0m \u001b[0mverbose\u001b[0m\u001b[0;34m=\u001b[0m\u001b[0;36m1\u001b[0m\u001b[0;34m,\u001b[0m \u001b[0msample_weight\u001b[0m\u001b[0;34m=\u001b[0m\u001b[0;32mNone\u001b[0m\u001b[0;34m)\u001b[0m\u001b[0;34m:\u001b[0m\u001b[0;34m\u001b[0m\u001b[0m\n",
      "\u001b[0;32m/home/ubuntu/anaconda3/lib/python3.6/site-packages/keras/engine/training.py\u001b[0m in \u001b[0;36m_fit_loop\u001b[0;34m(self, f, ins, out_labels, batch_size, epochs, verbose, callbacks, val_f, val_ins, shuffle, callback_metrics, initial_epoch)\u001b[0m\n\u001b[1;32m   1138\u001b[0m                 \u001b[0mbatch_logs\u001b[0m\u001b[0;34m[\u001b[0m\u001b[0;34m'size'\u001b[0m\u001b[0;34m]\u001b[0m \u001b[0;34m=\u001b[0m \u001b[0mlen\u001b[0m\u001b[0;34m(\u001b[0m\u001b[0mbatch_ids\u001b[0m\u001b[0;34m)\u001b[0m\u001b[0;34m\u001b[0m\u001b[0m\n\u001b[1;32m   1139\u001b[0m                 \u001b[0mcallbacks\u001b[0m\u001b[0;34m.\u001b[0m\u001b[0mon_batch_begin\u001b[0m\u001b[0;34m(\u001b[0m\u001b[0mbatch_index\u001b[0m\u001b[0;34m,\u001b[0m \u001b[0mbatch_logs\u001b[0m\u001b[0;34m)\u001b[0m\u001b[0;34m\u001b[0m\u001b[0m\n\u001b[0;32m-> 1140\u001b[0;31m                 \u001b[0mouts\u001b[0m \u001b[0;34m=\u001b[0m \u001b[0mf\u001b[0m\u001b[0;34m(\u001b[0m\u001b[0mins_batch\u001b[0m\u001b[0;34m)\u001b[0m\u001b[0;34m\u001b[0m\u001b[0m\n\u001b[0m\u001b[1;32m   1141\u001b[0m                 \u001b[0;32mif\u001b[0m \u001b[0;32mnot\u001b[0m \u001b[0misinstance\u001b[0m\u001b[0;34m(\u001b[0m\u001b[0mouts\u001b[0m\u001b[0;34m,\u001b[0m \u001b[0mlist\u001b[0m\u001b[0;34m)\u001b[0m\u001b[0;34m:\u001b[0m\u001b[0;34m\u001b[0m\u001b[0m\n\u001b[1;32m   1142\u001b[0m                     \u001b[0mouts\u001b[0m \u001b[0;34m=\u001b[0m \u001b[0;34m[\u001b[0m\u001b[0mouts\u001b[0m\u001b[0;34m]\u001b[0m\u001b[0;34m\u001b[0m\u001b[0m\n",
      "\u001b[0;32m/home/ubuntu/anaconda3/lib/python3.6/site-packages/keras/backend/tensorflow_backend.py\u001b[0m in \u001b[0;36m__call__\u001b[0;34m(self, inputs)\u001b[0m\n\u001b[1;32m   2071\u001b[0m         \u001b[0msession\u001b[0m \u001b[0;34m=\u001b[0m \u001b[0mget_session\u001b[0m\u001b[0;34m(\u001b[0m\u001b[0;34m)\u001b[0m\u001b[0;34m\u001b[0m\u001b[0m\n\u001b[1;32m   2072\u001b[0m         updated = session.run(self.outputs + [self.updates_op],\n\u001b[0;32m-> 2073\u001b[0;31m                               feed_dict=feed_dict)\n\u001b[0m\u001b[1;32m   2074\u001b[0m         \u001b[0;32mreturn\u001b[0m \u001b[0mupdated\u001b[0m\u001b[0;34m[\u001b[0m\u001b[0;34m:\u001b[0m\u001b[0mlen\u001b[0m\u001b[0;34m(\u001b[0m\u001b[0mself\u001b[0m\u001b[0;34m.\u001b[0m\u001b[0moutputs\u001b[0m\u001b[0;34m)\u001b[0m\u001b[0;34m]\u001b[0m\u001b[0;34m\u001b[0m\u001b[0m\n\u001b[1;32m   2075\u001b[0m \u001b[0;34m\u001b[0m\u001b[0m\n",
      "\u001b[0;32m/home/ubuntu/anaconda3/lib/python3.6/site-packages/tensorflow/python/client/session.py\u001b[0m in \u001b[0;36mrun\u001b[0;34m(self, fetches, feed_dict, options, run_metadata)\u001b[0m\n\u001b[1;32m    776\u001b[0m     \u001b[0;32mtry\u001b[0m\u001b[0;34m:\u001b[0m\u001b[0;34m\u001b[0m\u001b[0m\n\u001b[1;32m    777\u001b[0m       result = self._run(None, fetches, feed_dict, options_ptr,\n\u001b[0;32m--> 778\u001b[0;31m                          run_metadata_ptr)\n\u001b[0m\u001b[1;32m    779\u001b[0m       \u001b[0;32mif\u001b[0m \u001b[0mrun_metadata\u001b[0m\u001b[0;34m:\u001b[0m\u001b[0;34m\u001b[0m\u001b[0m\n\u001b[1;32m    780\u001b[0m         \u001b[0mproto_data\u001b[0m \u001b[0;34m=\u001b[0m \u001b[0mtf_session\u001b[0m\u001b[0;34m.\u001b[0m\u001b[0mTF_GetBuffer\u001b[0m\u001b[0;34m(\u001b[0m\u001b[0mrun_metadata_ptr\u001b[0m\u001b[0;34m)\u001b[0m\u001b[0;34m\u001b[0m\u001b[0m\n",
      "\u001b[0;32m/home/ubuntu/anaconda3/lib/python3.6/site-packages/tensorflow/python/client/session.py\u001b[0m in \u001b[0;36m_run\u001b[0;34m(self, handle, fetches, feed_dict, options, run_metadata)\u001b[0m\n\u001b[1;32m    980\u001b[0m     \u001b[0;32mif\u001b[0m \u001b[0mfinal_fetches\u001b[0m \u001b[0;32mor\u001b[0m \u001b[0mfinal_targets\u001b[0m\u001b[0;34m:\u001b[0m\u001b[0;34m\u001b[0m\u001b[0m\n\u001b[1;32m    981\u001b[0m       results = self._do_run(handle, final_targets, final_fetches,\n\u001b[0;32m--> 982\u001b[0;31m                              feed_dict_string, options, run_metadata)\n\u001b[0m\u001b[1;32m    983\u001b[0m     \u001b[0;32melse\u001b[0m\u001b[0;34m:\u001b[0m\u001b[0;34m\u001b[0m\u001b[0m\n\u001b[1;32m    984\u001b[0m       \u001b[0mresults\u001b[0m \u001b[0;34m=\u001b[0m \u001b[0;34m[\u001b[0m\u001b[0;34m]\u001b[0m\u001b[0;34m\u001b[0m\u001b[0m\n",
      "\u001b[0;32m/home/ubuntu/anaconda3/lib/python3.6/site-packages/tensorflow/python/client/session.py\u001b[0m in \u001b[0;36m_do_run\u001b[0;34m(self, handle, target_list, fetch_list, feed_dict, options, run_metadata)\u001b[0m\n\u001b[1;32m   1030\u001b[0m     \u001b[0;32mif\u001b[0m \u001b[0mhandle\u001b[0m \u001b[0;32mis\u001b[0m \u001b[0;32mNone\u001b[0m\u001b[0;34m:\u001b[0m\u001b[0;34m\u001b[0m\u001b[0m\n\u001b[1;32m   1031\u001b[0m       return self._do_call(_run_fn, self._session, feed_dict, fetch_list,\n\u001b[0;32m-> 1032\u001b[0;31m                            target_list, options, run_metadata)\n\u001b[0m\u001b[1;32m   1033\u001b[0m     \u001b[0;32melse\u001b[0m\u001b[0;34m:\u001b[0m\u001b[0;34m\u001b[0m\u001b[0m\n\u001b[1;32m   1034\u001b[0m       return self._do_call(_prun_fn, self._session, handle, feed_dict,\n",
      "\u001b[0;32m/home/ubuntu/anaconda3/lib/python3.6/site-packages/tensorflow/python/client/session.py\u001b[0m in \u001b[0;36m_do_call\u001b[0;34m(self, fn, *args)\u001b[0m\n\u001b[1;32m   1037\u001b[0m   \u001b[0;32mdef\u001b[0m \u001b[0m_do_call\u001b[0m\u001b[0;34m(\u001b[0m\u001b[0mself\u001b[0m\u001b[0;34m,\u001b[0m \u001b[0mfn\u001b[0m\u001b[0;34m,\u001b[0m \u001b[0;34m*\u001b[0m\u001b[0margs\u001b[0m\u001b[0;34m)\u001b[0m\u001b[0;34m:\u001b[0m\u001b[0;34m\u001b[0m\u001b[0m\n\u001b[1;32m   1038\u001b[0m     \u001b[0;32mtry\u001b[0m\u001b[0;34m:\u001b[0m\u001b[0;34m\u001b[0m\u001b[0m\n\u001b[0;32m-> 1039\u001b[0;31m       \u001b[0;32mreturn\u001b[0m \u001b[0mfn\u001b[0m\u001b[0;34m(\u001b[0m\u001b[0;34m*\u001b[0m\u001b[0margs\u001b[0m\u001b[0;34m)\u001b[0m\u001b[0;34m\u001b[0m\u001b[0m\n\u001b[0m\u001b[1;32m   1040\u001b[0m     \u001b[0;32mexcept\u001b[0m \u001b[0merrors\u001b[0m\u001b[0;34m.\u001b[0m\u001b[0mOpError\u001b[0m \u001b[0;32mas\u001b[0m \u001b[0me\u001b[0m\u001b[0;34m:\u001b[0m\u001b[0;34m\u001b[0m\u001b[0m\n\u001b[1;32m   1041\u001b[0m       \u001b[0mmessage\u001b[0m \u001b[0;34m=\u001b[0m \u001b[0mcompat\u001b[0m\u001b[0;34m.\u001b[0m\u001b[0mas_text\u001b[0m\u001b[0;34m(\u001b[0m\u001b[0me\u001b[0m\u001b[0;34m.\u001b[0m\u001b[0mmessage\u001b[0m\u001b[0;34m)\u001b[0m\u001b[0;34m\u001b[0m\u001b[0m\n",
      "\u001b[0;32m/home/ubuntu/anaconda3/lib/python3.6/site-packages/tensorflow/python/client/session.py\u001b[0m in \u001b[0;36m_run_fn\u001b[0;34m(session, feed_dict, fetch_list, target_list, options, run_metadata)\u001b[0m\n\u001b[1;32m   1019\u001b[0m         return tf_session.TF_Run(session, options,\n\u001b[1;32m   1020\u001b[0m                                  \u001b[0mfeed_dict\u001b[0m\u001b[0;34m,\u001b[0m \u001b[0mfetch_list\u001b[0m\u001b[0;34m,\u001b[0m \u001b[0mtarget_list\u001b[0m\u001b[0;34m,\u001b[0m\u001b[0;34m\u001b[0m\u001b[0m\n\u001b[0;32m-> 1021\u001b[0;31m                                  status, run_metadata)\n\u001b[0m\u001b[1;32m   1022\u001b[0m \u001b[0;34m\u001b[0m\u001b[0m\n\u001b[1;32m   1023\u001b[0m     \u001b[0;32mdef\u001b[0m \u001b[0m_prun_fn\u001b[0m\u001b[0;34m(\u001b[0m\u001b[0msession\u001b[0m\u001b[0;34m,\u001b[0m \u001b[0mhandle\u001b[0m\u001b[0;34m,\u001b[0m \u001b[0mfeed_dict\u001b[0m\u001b[0;34m,\u001b[0m \u001b[0mfetch_list\u001b[0m\u001b[0;34m)\u001b[0m\u001b[0;34m:\u001b[0m\u001b[0;34m\u001b[0m\u001b[0m\n",
      "\u001b[0;31mKeyboardInterrupt\u001b[0m: "
     ]
    }
   ],
   "source": [
    "lr = 0.001\n",
    "reduce_lr = ReduceLROnPlateau(monitor='val_loss', factor=0.1,\n",
    "              patience=5, min_lr=0.0000000001)\n",
    "\n",
    "if not os.path.exists('checkpoints_ffip_fcn_vgg'):\n",
    "    os.makedirs('checkpoints_ffip_fcn_vgg')\n",
    "model_checkpoint = ModelCheckpoint(os.path.join('checkpoints_ffip_fcn_vgg', 'newFIXEDweights.{epoch:02d}-{loss:.5f}.hdf5'),\n",
    "                                  monitor='val_loss', save_best_only=True)\n",
    "\n",
    "\n",
    "NUM_EPOCHS = 80\n",
    "# gen = ImageDataGenerator()\n",
    "# train_batches = gen.flow(X_train, Y_train)\n",
    "# tensorboard = TensorBoard(log_dir='/tmp/tboard_logs2', histogram_freq=0, write_graph=True, write_images=True)\n",
    "STEPS_PER_EPOCH = X_train.shape[0] / 32\n",
    "VALIDATION_STEPS = len(X_val) / 32\n",
    "#INPUT_SIZE = 256\n",
    "\n",
    "\n",
    "model = fcn_model(lr=.0001)\n",
    "#model.fit_generator(train_batches, steps_per_epoch=STEPS_PER_EPOCH, epochs=NUM_EPOCHS, verbose=1, callbacks=[reduce_lr])\n",
    "model.fit(X_train, Y_train, batch_size=12, epochs=NUM_EPOCHS, verbose=1, shuffle=True, validation_data=(X_val, Y_val),\n",
    "         callbacks=[model_checkpoint])\n"
   ]
  },
  {
   "cell_type": "code",
   "execution_count": null,
   "metadata": {
    "collapsed": true
   },
   "outputs": [],
   "source": []
  },
  {
   "cell_type": "code",
   "execution_count": null,
   "metadata": {
    "collapsed": true
   },
   "outputs": [],
   "source": []
  },
  {
   "cell_type": "code",
   "execution_count": 115,
   "metadata": {
    "collapsed": true
   },
   "outputs": [],
   "source": [
    "model.save_weights('fcn_vgg19_ffip_20epoch_weights.h5')"
   ]
  },
  {
   "cell_type": "code",
   "execution_count": 116,
   "metadata": {
    "collapsed": true
   },
   "outputs": [],
   "source": [
    "model.save('fcn_vgg19_ffip_20epoch_model.h5')"
   ]
  },
  {
   "cell_type": "code",
   "execution_count": null,
   "metadata": {
    "collapsed": true
   },
   "outputs": [],
   "source": []
  },
  {
   "cell_type": "code",
   "execution_count": null,
   "metadata": {
    "collapsed": true
   },
   "outputs": [],
   "source": []
  },
  {
   "cell_type": "code",
   "execution_count": 56,
   "metadata": {
    "collapsed": true
   },
   "outputs": [],
   "source": [
    "a = np.array([0, 1, 22, 3])"
   ]
  },
  {
   "cell_type": "code",
   "execution_count": 57,
   "metadata": {
    "collapsed": true
   },
   "outputs": [],
   "source": [
    "b = np.array([22, 0, 3, 19])"
   ]
  },
  {
   "cell_type": "code",
   "execution_count": 58,
   "metadata": {
    "collapsed": true
   },
   "outputs": [],
   "source": [
    "np.max?"
   ]
  },
  {
   "cell_type": "code",
   "execution_count": 82,
   "metadata": {
    "collapsed": true
   },
   "outputs": [],
   "source": [
    "plt.imshow?"
   ]
  },
  {
   "cell_type": "code",
   "execution_count": 52,
   "metadata": {
    "collapsed": false
   },
   "outputs": [
    {
     "name": "stdout",
     "output_type": "stream",
     "text": [
      "Found 32 usable images in the validation set.\n"
     ]
    },
    {
     "data": {
      "text/plain": [
       "<matplotlib.text.Text at 0x7f18a8f77908>"
      ]
     },
     "execution_count": 52,
     "metadata": {},
     "output_type": "execute_result"
    },
    {
     "data": {
      "image/png": "[encoded data removed]",
      "text/plain": [
       "<matplotlib.figure.Figure at 0x7f18a918c588>"
      ]
     },
     "metadata": {},
     "output_type": "display_data"
    }
   ],
   "source": [
    "# # If you need to load the model, you can use these lines.  Change the weights filename to match one you have.\n",
    "# model = get_unet()\n",
    "# model.load_weights('checkpoints/weights.50-0.08328.hdf5')\n",
    "\n",
    "# Pick out which target to look at\n",
    "CLASS_NO = 0\n",
    "\n",
    "# Pick an image with some positive pixels in the target\n",
    "usable_imgs = []\n",
    "for i in range(Y_val.shape[0]):\n",
    "    if Y_val[i, :, :, CLASS_NO].sum() > 5000:\n",
    "        usable_imgs.append(i)\n",
    "print(\"Found %d usable images in the validation set.\"%len(usable_imgs))\n",
    "i = usable_imgs[21]\n",
    "X = X_val[i]\n",
    "Y = Y_val[i]\n",
    "\n",
    "targ = Y[:, :, CLASS_NO]\n",
    "\n",
    "# Run the model on that sample\n",
    "pred = model.predict(X[None, ...])[0, :, :, CLASS_NO] > 0.05\n",
    "# pred0 = model.predict(X[None, ...])[0, :, :, 0]\n",
    "# pred1 = model.predict(X[None, ...])[0, :, :, 1]\n",
    "# pred2 = model.predict(X[None, ...])[0, :, :, 2]\n",
    "# pred3 = model.predict(X[None, ...])[0, :, :, 3]\n",
    "\n",
    "# max0 = ((pred0 > np.maximum.reduce([pred1,pred2,pred3])) & (pred0 > 0.15)) * 1\n",
    "# max1 = ((pred1 > np.maximum.reduce([pred0,pred2,pred3])) & (pred1 > 0.15)) * 2\n",
    "# max2 = ((pred2 > np.maximum.reduce([pred0,pred1,pred3])) & (pred2 > 0.15)) * 3\n",
    "# max3 = ((pred3 > np.maximum.reduce([pred0,pred1,pred2])) & (pred3 > 0.15)) * 4\n",
    "\n",
    "# pred_new = np.maximum.reduce([max0, max1, max2, max3])\n",
    "\n",
    "# print(np.sum(max0))\n",
    "# print(np.sum(max1))\n",
    "# print(np.sum(max2))\n",
    "# print(np.sum(max3))\n",
    "\n",
    "from matplotlib import colors\n",
    "\n",
    "cmap = colors.ListedColormap(['k','b','y','g','r'])\n",
    "bounds=[0,1,2,3,4]\n",
    "norm = colors.BoundaryNorm(bounds, cmap.N)\n",
    "\n",
    "# Plot it\n",
    "fig, (ax1, ax2, ax3, ax4) = plt.subplots(1,4, figsize=(12,8))\n",
    "ax1.imshow(scale_bands(X[:, :, [2,1,0]])) # This index starts at 0, so I had to decrement\n",
    "ax2.imshow(targ, vmin=0, vmax=1)\n",
    "ax3.imshow(pred)\n",
    "\n",
    "#ax4.imshow(pred_new, cmap=cmap)\n",
    "\n",
    "ax1.set_title('Image')\n",
    "ax2.set_title('Ground Truth')\n",
    "ax3.set_title('Prediction')"
   ]
  },
  {
   "cell_type": "code",
   "execution_count": null,
   "metadata": {
    "collapsed": true
   },
   "outputs": [],
   "source": []
  },
  {
   "cell_type": "code",
   "execution_count": null,
   "metadata": {
    "collapsed": true
   },
   "outputs": [],
   "source": []
  },
  {
   "cell_type": "code",
   "execution_count": null,
   "metadata": {
    "collapsed": true
   },
   "outputs": [],
   "source": []
  },
  {
   "cell_type": "code",
   "execution_count": null,
   "metadata": {
    "collapsed": true
   },
   "outputs": [],
   "source": []
  }
 ],
 "metadata": {
  "kernelspec": {
   "display_name": "Python [default]",
   "language": "python",
   "name": "python3"
  },
  "language_info": {
   "codemirror_mode": {
    "name": "ipython",
    "version": 3
   },
   "file_extension": ".py",
   "mimetype": "text/x-python",
   "name": "python",
   "nbconvert_exporter": "python",
   "pygments_lexer": "ipython3",
   "version": "3.5.2"
  }
 },
 "nbformat": 4,
 "nbformat_minor": 2
}
